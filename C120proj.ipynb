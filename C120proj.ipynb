{
  "nbformat": 4,
  "nbformat_minor": 0,
  "metadata": {
    "colab": {
      "name": "C120proj",
      "provenance": [],
      "authorship_tag": "ABX9TyP6ZxYgqR7ZmgmgOS4ZElbO",
      "include_colab_link": true
    },
    "kernelspec": {
      "name": "python3",
      "display_name": "Python 3"
    },
    "language_info": {
      "name": "python"
    }
  },
  "cells": [
    {
      "cell_type": "markdown",
      "metadata": {
        "id": "view-in-github",
        "colab_type": "text"
      },
      "source": [
        "<a href=\"https://colab.research.google.com/github/pratyaksh12/C120proj-new/blob/main/C120proj.ipynb\" target=\"_parent\"><img src=\"https://colab.research.google.com/assets/colab-badge.svg\" alt=\"Open In Colab\"/></a>"
      ]
    },
    {
      "cell_type": "code",
      "execution_count": 3,
      "metadata": {
        "colab": {
          "base_uri": "https://localhost:8080/"
        },
        "id": "SFEnJ6y7RcH1",
        "outputId": "36ae042c-58c4-4c3f-8e38-49de0cd4df10"
      },
      "outputs": [
        {
          "output_type": "stream",
          "name": "stdout",
          "text": [
            "Features: ['alcohol', 'malic_acid', 'ash', 'alcalinity_of_ash', 'magnesium', 'total_phenols', 'flavanoids', 'nonflavanoid_phenols', 'proanthocyanins', 'color_intensity', 'hue', 'od280/od315_of_diluted_wines', 'proline']\n",
            "Labels: ['class_0' 'class_1' 'class_2']\n"
          ]
        }
      ],
      "source": [
        "from sklearn import datasets\n",
        "wine=datasets.load_wine()\n",
        "\n",
        "print(\"Features:\", wine.feature_names)\n",
        "print(\"Labels:\", wine.target_names)\n",
        "\n"
      ]
    },
    {
      "cell_type": "code",
      "source": [
        "from sklearn.model_selection import train_test_split\n",
        "X=wine.data\n",
        "y=wine.target\n",
        "x_train,x_test,y_train,y_test=train_test_split(X,y,test_size=0.3,random_state=109)\n",
        "\n"
      ],
      "metadata": {
        "id": "9YJHPkOQRk5K"
      },
      "execution_count": 2,
      "outputs": []
    },
    {
      "cell_type": "code",
      "source": [
        "from sklearn.naive_bayes import GaussianNB\n",
        "from sklearn.metrics import accuracy_score\n",
        "from sklearn import metrics\n",
        "model=GaussianNB()\n",
        "model.fit(x_train,y_train)\n",
        "y_pred=model.predict(x_test)\n",
        "print(\"accuracy :- \",metrics.accuracy_score(y_test,y_pred))"
      ],
      "metadata": {
        "colab": {
          "base_uri": "https://localhost:8080/"
        },
        "id": "5E_JCBJuRm0F",
        "outputId": "848b78dc-8e59-47e8-b4b1-c0694b14d9c0"
      },
      "execution_count": 4,
      "outputs": [
        {
          "output_type": "stream",
          "name": "stdout",
          "text": [
            "accuracy :-  0.9074074074074074\n"
          ]
        }
      ]
    }
  ]
}